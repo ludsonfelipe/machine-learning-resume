{
 "cells": [
  {
   "cell_type": "code",
   "execution_count": 4,
   "metadata": {
    "id": "gYtwU14XSCj5"
   },
   "outputs": [],
   "source": [
    "#!pip install pycaret"
   ]
  },
  {
   "cell_type": "code",
   "execution_count": 5,
   "metadata": {
    "id": "KhOIlGmFR-D5"
   },
   "outputs": [],
   "source": [
    "from pycaret.datasets import get_data\n",
    "import pandas as pd\n",
    "import seaborn as sns\n",
    "import numpy as np\n",
    "import matplotlib.pyplot as plt\n",
    "from sklearn.model_selection import train_test_split\n",
    "from sklearn.preprocessing import LabelEncoder\n",
    "from sklearn.metrics import r2_score"
   ]
  },
  {
   "cell_type": "code",
   "execution_count": 6,
   "metadata": {
    "colab": {
     "base_uri": "https://localhost:8080/",
     "height": 395
    },
    "id": "28FjHbAaZeUX",
    "outputId": "6c8a9d78-14e9-48c9-dee9-68ae863adf67"
   },
   "outputs": [
    {
     "data": {
      "text/html": [
       "\n",
       "  <div id=\"df-0696134f-d5c3-46e3-86c5-447a06c6e475\">\n",
       "    <div class=\"colab-df-container\">\n",
       "      <div>\n",
       "<style scoped>\n",
       "    .dataframe tbody tr th:only-of-type {\n",
       "        vertical-align: middle;\n",
       "    }\n",
       "\n",
       "    .dataframe tbody tr th {\n",
       "        vertical-align: top;\n",
       "    }\n",
       "\n",
       "    .dataframe thead th {\n",
       "        text-align: right;\n",
       "    }\n",
       "</style>\n",
       "<table border=\"1\" class=\"dataframe\">\n",
       "  <thead>\n",
       "    <tr style=\"text-align: right;\">\n",
       "      <th></th>\n",
       "      <th>crim</th>\n",
       "      <th>zn</th>\n",
       "      <th>indus</th>\n",
       "      <th>chas</th>\n",
       "      <th>nox</th>\n",
       "      <th>rm</th>\n",
       "      <th>age</th>\n",
       "      <th>dis</th>\n",
       "      <th>rad</th>\n",
       "      <th>tax</th>\n",
       "      <th>ptratio</th>\n",
       "      <th>black</th>\n",
       "      <th>lstat</th>\n",
       "      <th>medv</th>\n",
       "    </tr>\n",
       "  </thead>\n",
       "  <tbody>\n",
       "    <tr>\n",
       "      <th>0</th>\n",
       "      <td>0.00632</td>\n",
       "      <td>18.0</td>\n",
       "      <td>2.31</td>\n",
       "      <td>0</td>\n",
       "      <td>0.538</td>\n",
       "      <td>6.575</td>\n",
       "      <td>65.2</td>\n",
       "      <td>4.0900</td>\n",
       "      <td>1</td>\n",
       "      <td>296</td>\n",
       "      <td>15.3</td>\n",
       "      <td>396.90</td>\n",
       "      <td>4.98</td>\n",
       "      <td>24.0</td>\n",
       "    </tr>\n",
       "    <tr>\n",
       "      <th>1</th>\n",
       "      <td>0.02731</td>\n",
       "      <td>0.0</td>\n",
       "      <td>7.07</td>\n",
       "      <td>0</td>\n",
       "      <td>0.469</td>\n",
       "      <td>6.421</td>\n",
       "      <td>78.9</td>\n",
       "      <td>4.9671</td>\n",
       "      <td>2</td>\n",
       "      <td>242</td>\n",
       "      <td>17.8</td>\n",
       "      <td>396.90</td>\n",
       "      <td>9.14</td>\n",
       "      <td>21.6</td>\n",
       "    </tr>\n",
       "    <tr>\n",
       "      <th>2</th>\n",
       "      <td>0.02729</td>\n",
       "      <td>0.0</td>\n",
       "      <td>7.07</td>\n",
       "      <td>0</td>\n",
       "      <td>0.469</td>\n",
       "      <td>7.185</td>\n",
       "      <td>61.1</td>\n",
       "      <td>4.9671</td>\n",
       "      <td>2</td>\n",
       "      <td>242</td>\n",
       "      <td>17.8</td>\n",
       "      <td>392.83</td>\n",
       "      <td>4.03</td>\n",
       "      <td>34.7</td>\n",
       "    </tr>\n",
       "    <tr>\n",
       "      <th>3</th>\n",
       "      <td>0.03237</td>\n",
       "      <td>0.0</td>\n",
       "      <td>2.18</td>\n",
       "      <td>0</td>\n",
       "      <td>0.458</td>\n",
       "      <td>6.998</td>\n",
       "      <td>45.8</td>\n",
       "      <td>6.0622</td>\n",
       "      <td>3</td>\n",
       "      <td>222</td>\n",
       "      <td>18.7</td>\n",
       "      <td>394.63</td>\n",
       "      <td>2.94</td>\n",
       "      <td>33.4</td>\n",
       "    </tr>\n",
       "    <tr>\n",
       "      <th>4</th>\n",
       "      <td>0.06905</td>\n",
       "      <td>0.0</td>\n",
       "      <td>2.18</td>\n",
       "      <td>0</td>\n",
       "      <td>0.458</td>\n",
       "      <td>7.147</td>\n",
       "      <td>54.2</td>\n",
       "      <td>6.0622</td>\n",
       "      <td>3</td>\n",
       "      <td>222</td>\n",
       "      <td>18.7</td>\n",
       "      <td>396.90</td>\n",
       "      <td>5.33</td>\n",
       "      <td>36.2</td>\n",
       "    </tr>\n",
       "  </tbody>\n",
       "</table>\n",
       "</div>\n",
       "      <button class=\"colab-df-convert\" onclick=\"convertToInteractive('df-0696134f-d5c3-46e3-86c5-447a06c6e475')\"\n",
       "              title=\"Convert this dataframe to an interactive table.\"\n",
       "              style=\"display:none;\">\n",
       "        \n",
       "  <svg xmlns=\"http://www.w3.org/2000/svg\" height=\"24px\"viewBox=\"0 0 24 24\"\n",
       "       width=\"24px\">\n",
       "    <path d=\"M0 0h24v24H0V0z\" fill=\"none\"/>\n",
       "    <path d=\"M18.56 5.44l.94 2.06.94-2.06 2.06-.94-2.06-.94-.94-2.06-.94 2.06-2.06.94zm-11 1L8.5 8.5l.94-2.06 2.06-.94-2.06-.94L8.5 2.5l-.94 2.06-2.06.94zm10 10l.94 2.06.94-2.06 2.06-.94-2.06-.94-.94-2.06-.94 2.06-2.06.94z\"/><path d=\"M17.41 7.96l-1.37-1.37c-.4-.4-.92-.59-1.43-.59-.52 0-1.04.2-1.43.59L10.3 9.45l-7.72 7.72c-.78.78-.78 2.05 0 2.83L4 21.41c.39.39.9.59 1.41.59.51 0 1.02-.2 1.41-.59l7.78-7.78 2.81-2.81c.8-.78.8-2.07 0-2.86zM5.41 20L4 18.59l7.72-7.72 1.47 1.35L5.41 20z\"/>\n",
       "  </svg>\n",
       "      </button>\n",
       "      \n",
       "  <style>\n",
       "    .colab-df-container {\n",
       "      display:flex;\n",
       "      flex-wrap:wrap;\n",
       "      gap: 12px;\n",
       "    }\n",
       "\n",
       "    .colab-df-convert {\n",
       "      background-color: #E8F0FE;\n",
       "      border: none;\n",
       "      border-radius: 50%;\n",
       "      cursor: pointer;\n",
       "      display: none;\n",
       "      fill: #1967D2;\n",
       "      height: 32px;\n",
       "      padding: 0 0 0 0;\n",
       "      width: 32px;\n",
       "    }\n",
       "\n",
       "    .colab-df-convert:hover {\n",
       "      background-color: #E2EBFA;\n",
       "      box-shadow: 0px 1px 2px rgba(60, 64, 67, 0.3), 0px 1px 3px 1px rgba(60, 64, 67, 0.15);\n",
       "      fill: #174EA6;\n",
       "    }\n",
       "\n",
       "    [theme=dark] .colab-df-convert {\n",
       "      background-color: #3B4455;\n",
       "      fill: #D2E3FC;\n",
       "    }\n",
       "\n",
       "    [theme=dark] .colab-df-convert:hover {\n",
       "      background-color: #434B5C;\n",
       "      box-shadow: 0px 1px 3px 1px rgba(0, 0, 0, 0.15);\n",
       "      filter: drop-shadow(0px 1px 2px rgba(0, 0, 0, 0.3));\n",
       "      fill: #FFFFFF;\n",
       "    }\n",
       "  </style>\n",
       "\n",
       "      <script>\n",
       "        const buttonEl =\n",
       "          document.querySelector('#df-0696134f-d5c3-46e3-86c5-447a06c6e475 button.colab-df-convert');\n",
       "        buttonEl.style.display =\n",
       "          google.colab.kernel.accessAllowed ? 'block' : 'none';\n",
       "\n",
       "        async function convertToInteractive(key) {\n",
       "          const element = document.querySelector('#df-0696134f-d5c3-46e3-86c5-447a06c6e475');\n",
       "          const dataTable =\n",
       "            await google.colab.kernel.invokeFunction('convertToInteractive',\n",
       "                                                     [key], {});\n",
       "          if (!dataTable) return;\n",
       "\n",
       "          const docLinkHtml = 'Like what you see? Visit the ' +\n",
       "            '<a target=\"_blank\" href=https://colab.research.google.com/notebooks/data_table.ipynb>data table notebook</a>'\n",
       "            + ' to learn more about interactive tables.';\n",
       "          element.innerHTML = '';\n",
       "          dataTable['output_type'] = 'display_data';\n",
       "          await google.colab.output.renderOutput(dataTable, element);\n",
       "          const docLink = document.createElement('div');\n",
       "          docLink.innerHTML = docLinkHtml;\n",
       "          element.appendChild(docLink);\n",
       "        }\n",
       "      </script>\n",
       "    </div>\n",
       "  </div>\n",
       "  "
      ],
      "text/plain": [
       "      crim    zn  indus  chas    nox  ...  tax  ptratio   black  lstat  medv\n",
       "0  0.00632  18.0   2.31     0  0.538  ...  296     15.3  396.90   4.98  24.0\n",
       "1  0.02731   0.0   7.07     0  0.469  ...  242     17.8  396.90   9.14  21.6\n",
       "2  0.02729   0.0   7.07     0  0.469  ...  242     17.8  392.83   4.03  34.7\n",
       "3  0.03237   0.0   2.18     0  0.458  ...  222     18.7  394.63   2.94  33.4\n",
       "4  0.06905   0.0   2.18     0  0.458  ...  222     18.7  396.90   5.33  36.2\n",
       "\n",
       "[5 rows x 14 columns]"
      ]
     },
     "metadata": {},
     "output_type": "display_data"
    },
    {
     "data": {
      "text/html": [
       "\n",
       "  <div id=\"df-52cf0eee-7f54-487f-99a9-04a3ffc7d884\">\n",
       "    <div class=\"colab-df-container\">\n",
       "      <div>\n",
       "<style scoped>\n",
       "    .dataframe tbody tr th:only-of-type {\n",
       "        vertical-align: middle;\n",
       "    }\n",
       "\n",
       "    .dataframe tbody tr th {\n",
       "        vertical-align: top;\n",
       "    }\n",
       "\n",
       "    .dataframe thead th {\n",
       "        text-align: right;\n",
       "    }\n",
       "</style>\n",
       "<table border=\"1\" class=\"dataframe\">\n",
       "  <thead>\n",
       "    <tr style=\"text-align: right;\">\n",
       "      <th></th>\n",
       "      <th>sepal_length</th>\n",
       "      <th>sepal_width</th>\n",
       "      <th>petal_length</th>\n",
       "      <th>petal_width</th>\n",
       "      <th>species</th>\n",
       "    </tr>\n",
       "  </thead>\n",
       "  <tbody>\n",
       "    <tr>\n",
       "      <th>0</th>\n",
       "      <td>5.1</td>\n",
       "      <td>3.5</td>\n",
       "      <td>1.4</td>\n",
       "      <td>0.2</td>\n",
       "      <td>Iris-setosa</td>\n",
       "    </tr>\n",
       "    <tr>\n",
       "      <th>1</th>\n",
       "      <td>4.9</td>\n",
       "      <td>3.0</td>\n",
       "      <td>1.4</td>\n",
       "      <td>0.2</td>\n",
       "      <td>Iris-setosa</td>\n",
       "    </tr>\n",
       "    <tr>\n",
       "      <th>2</th>\n",
       "      <td>4.7</td>\n",
       "      <td>3.2</td>\n",
       "      <td>1.3</td>\n",
       "      <td>0.2</td>\n",
       "      <td>Iris-setosa</td>\n",
       "    </tr>\n",
       "    <tr>\n",
       "      <th>3</th>\n",
       "      <td>4.6</td>\n",
       "      <td>3.1</td>\n",
       "      <td>1.5</td>\n",
       "      <td>0.2</td>\n",
       "      <td>Iris-setosa</td>\n",
       "    </tr>\n",
       "    <tr>\n",
       "      <th>4</th>\n",
       "      <td>5.0</td>\n",
       "      <td>3.6</td>\n",
       "      <td>1.4</td>\n",
       "      <td>0.2</td>\n",
       "      <td>Iris-setosa</td>\n",
       "    </tr>\n",
       "  </tbody>\n",
       "</table>\n",
       "</div>\n",
       "      <button class=\"colab-df-convert\" onclick=\"convertToInteractive('df-52cf0eee-7f54-487f-99a9-04a3ffc7d884')\"\n",
       "              title=\"Convert this dataframe to an interactive table.\"\n",
       "              style=\"display:none;\">\n",
       "        \n",
       "  <svg xmlns=\"http://www.w3.org/2000/svg\" height=\"24px\"viewBox=\"0 0 24 24\"\n",
       "       width=\"24px\">\n",
       "    <path d=\"M0 0h24v24H0V0z\" fill=\"none\"/>\n",
       "    <path d=\"M18.56 5.44l.94 2.06.94-2.06 2.06-.94-2.06-.94-.94-2.06-.94 2.06-2.06.94zm-11 1L8.5 8.5l.94-2.06 2.06-.94-2.06-.94L8.5 2.5l-.94 2.06-2.06.94zm10 10l.94 2.06.94-2.06 2.06-.94-2.06-.94-.94-2.06-.94 2.06-2.06.94z\"/><path d=\"M17.41 7.96l-1.37-1.37c-.4-.4-.92-.59-1.43-.59-.52 0-1.04.2-1.43.59L10.3 9.45l-7.72 7.72c-.78.78-.78 2.05 0 2.83L4 21.41c.39.39.9.59 1.41.59.51 0 1.02-.2 1.41-.59l7.78-7.78 2.81-2.81c.8-.78.8-2.07 0-2.86zM5.41 20L4 18.59l7.72-7.72 1.47 1.35L5.41 20z\"/>\n",
       "  </svg>\n",
       "      </button>\n",
       "      \n",
       "  <style>\n",
       "    .colab-df-container {\n",
       "      display:flex;\n",
       "      flex-wrap:wrap;\n",
       "      gap: 12px;\n",
       "    }\n",
       "\n",
       "    .colab-df-convert {\n",
       "      background-color: #E8F0FE;\n",
       "      border: none;\n",
       "      border-radius: 50%;\n",
       "      cursor: pointer;\n",
       "      display: none;\n",
       "      fill: #1967D2;\n",
       "      height: 32px;\n",
       "      padding: 0 0 0 0;\n",
       "      width: 32px;\n",
       "    }\n",
       "\n",
       "    .colab-df-convert:hover {\n",
       "      background-color: #E2EBFA;\n",
       "      box-shadow: 0px 1px 2px rgba(60, 64, 67, 0.3), 0px 1px 3px 1px rgba(60, 64, 67, 0.15);\n",
       "      fill: #174EA6;\n",
       "    }\n",
       "\n",
       "    [theme=dark] .colab-df-convert {\n",
       "      background-color: #3B4455;\n",
       "      fill: #D2E3FC;\n",
       "    }\n",
       "\n",
       "    [theme=dark] .colab-df-convert:hover {\n",
       "      background-color: #434B5C;\n",
       "      box-shadow: 0px 1px 3px 1px rgba(0, 0, 0, 0.15);\n",
       "      filter: drop-shadow(0px 1px 2px rgba(0, 0, 0, 0.3));\n",
       "      fill: #FFFFFF;\n",
       "    }\n",
       "  </style>\n",
       "\n",
       "      <script>\n",
       "        const buttonEl =\n",
       "          document.querySelector('#df-52cf0eee-7f54-487f-99a9-04a3ffc7d884 button.colab-df-convert');\n",
       "        buttonEl.style.display =\n",
       "          google.colab.kernel.accessAllowed ? 'block' : 'none';\n",
       "\n",
       "        async function convertToInteractive(key) {\n",
       "          const element = document.querySelector('#df-52cf0eee-7f54-487f-99a9-04a3ffc7d884');\n",
       "          const dataTable =\n",
       "            await google.colab.kernel.invokeFunction('convertToInteractive',\n",
       "                                                     [key], {});\n",
       "          if (!dataTable) return;\n",
       "\n",
       "          const docLinkHtml = 'Like what you see? Visit the ' +\n",
       "            '<a target=\"_blank\" href=https://colab.research.google.com/notebooks/data_table.ipynb>data table notebook</a>'\n",
       "            + ' to learn more about interactive tables.';\n",
       "          element.innerHTML = '';\n",
       "          dataTable['output_type'] = 'display_data';\n",
       "          await google.colab.output.renderOutput(dataTable, element);\n",
       "          const docLink = document.createElement('div');\n",
       "          docLink.innerHTML = docLinkHtml;\n",
       "          element.appendChild(docLink);\n",
       "        }\n",
       "      </script>\n",
       "    </div>\n",
       "  </div>\n",
       "  "
      ],
      "text/plain": [
       "   sepal_length  sepal_width  petal_length  petal_width      species\n",
       "0           5.1          3.5           1.4          0.2  Iris-setosa\n",
       "1           4.9          3.0           1.4          0.2  Iris-setosa\n",
       "2           4.7          3.2           1.3          0.2  Iris-setosa\n",
       "3           4.6          3.1           1.5          0.2  Iris-setosa\n",
       "4           5.0          3.6           1.4          0.2  Iris-setosa"
      ]
     },
     "metadata": {},
     "output_type": "display_data"
    }
   ],
   "source": [
    "df_reg = get_data('boston')\n",
    "df_clf = get_data('iris')\n",
    "X_reg = df_reg.drop('medv',axis=1)\n",
    "Y_reg = df_reg.medv\n",
    "X_clf = df_clf.drop('species',axis=1)\n",
    "Y_clf = LabelEncoder().fit_transform(df_clf.species)\n",
    "x_trainr,x_testr,y_trainr,y_testr = train_test_split(X_reg,Y_reg)\n",
    "x_trainc,x_testc,y_trainc,y_testc = train_test_split(X_clf,Y_clf)"
   ]
  },
  {
   "cell_type": "markdown",
   "metadata": {
    "id": "rjkZgUQVZCeB"
   },
   "source": [
    "# Regressão"
   ]
  },
  {
   "cell_type": "markdown",
   "metadata": {
    "id": "_5MaUeZPZIyx"
   },
   "source": [
    "## Linear Regression\n",
    "\n",
    "* from sklearn.linear_model import LinearRegression\n",
    "\n",
    "* Sem parametros importantes"
   ]
  },
  {
   "cell_type": "code",
   "execution_count": null,
   "metadata": {
    "id": "_tr3tFNeZDQg"
   },
   "outputs": [],
   "source": [
    "from sklearn.linear_model import LinearRegression"
   ]
  },
  {
   "cell_type": "code",
   "execution_count": null,
   "metadata": {
    "colab": {
     "base_uri": "https://localhost:8080/"
    },
    "id": "ljgA5IaUZc7E",
    "outputId": "2de4a109-ea03-49f3-e4bb-de88833771b5"
   },
   "outputs": [
    {
     "data": {
      "text/plain": [
       "0.705186162322073"
      ]
     },
     "execution_count": 5,
     "metadata": {},
     "output_type": "execute_result"
    }
   ],
   "source": [
    "ln = LinearRegression()\n",
    "ln.fit(x_trainr,y_trainr)\n",
    "r2_score(y_testr,ln.predict(x_testr))"
   ]
  },
  {
   "cell_type": "code",
   "execution_count": null,
   "metadata": {
    "colab": {
     "base_uri": "https://localhost:8080/"
    },
    "id": "mMDq4vvVZcvg",
    "outputId": "9df7a469-b763-4b48-ff74-50f97eea51d0"
   },
   "outputs": [
    {
     "data": {
      "text/plain": [
       "array([-1.07952194e-01,  5.22282052e-02, -5.95065612e-02,  2.38238642e+00,\n",
       "       -1.44657113e+01,  3.20423455e+00, -8.50002222e-03, -1.63157774e+00,\n",
       "        2.86179058e-01, -1.18715090e-02, -8.29110485e-01,  8.35566570e-03,\n",
       "       -5.40303286e-01])"
      ]
     },
     "execution_count": 6,
     "metadata": {},
     "output_type": "execute_result"
    }
   ],
   "source": [
    "ln.coef_"
   ]
  },
  {
   "cell_type": "code",
   "execution_count": null,
   "metadata": {
    "colab": {
     "base_uri": "https://localhost:8080/"
    },
    "id": "pcwVgg2TcQJn",
    "outputId": "55538f00-e3c9-4716-db3b-65fb95caf34e"
   },
   "outputs": [
    {
     "data": {
      "text/plain": [
       "38.821892969720196"
      ]
     },
     "execution_count": 7,
     "metadata": {},
     "output_type": "execute_result"
    }
   ],
   "source": [
    "ln.intercept_"
   ]
  },
  {
   "cell_type": "markdown",
   "metadata": {
    "id": "PF85qvpI89jW"
   },
   "source": [
    "## Ridge Regression\n",
    "\n",
    "* from sklearn.linear_model import Ridge\n",
    "\n",
    "* Alpha (alpha será o grau de erro embutido no nosso modelo linear)"
   ]
  },
  {
   "cell_type": "code",
   "execution_count": null,
   "metadata": {
    "id": "xN4a3l_889jW"
   },
   "outputs": [],
   "source": [
    "from sklearn.linear_model import Ridge3"
   ]
  },
  {
   "cell_type": "code",
   "execution_count": null,
   "metadata": {
    "colab": {
     "base_uri": "https://localhost:8080/"
    },
    "id": "KES94SRw89jX",
    "outputId": "128c1e98-8d25-4784-97af-7c7b4585b0c7"
   },
   "outputs": [
    {
     "data": {
      "text/plain": [
       "0.7051810730862191"
      ]
     },
     "execution_count": 9,
     "metadata": {},
     "output_type": "execute_result"
    }
   ],
   "source": [
    "lnr = Ridge(alpha=0.0004)\n",
    "lnr.fit(x_trainr,y_trainr)\n",
    "r2_score(y_testr,lnr.predict(x_testr))"
   ]
  },
  {
   "cell_type": "code",
   "execution_count": null,
   "metadata": {
    "id": "ymAwl7v1-TX-"
   },
   "outputs": [],
   "source": [
    "from sklearn.linear_model import RidgeCV"
   ]
  },
  {
   "cell_type": "markdown",
   "metadata": {
    "id": "JmcskjMl-5Rx"
   },
   "source": [
    "## RidgeCV\n",
    "\n",
    "**RidgeCV** atua como um **gridsearch**, recebendo varios valores de alpha, e escolhendo o melhor.\n",
    "\n",
    "**np.logspace(-50, 6, 50)**: retorna 50 numeros começando 1 elevado a -50 até 6"
   ]
  },
  {
   "cell_type": "code",
   "execution_count": null,
   "metadata": {
    "colab": {
     "base_uri": "https://localhost:8080/"
    },
    "id": "-ObCteD2-WUf",
    "outputId": "812a4809-8787-427b-a781-9162c90f0971"
   },
   "outputs": [
    {
     "data": {
      "text/plain": [
       "0.7042399630954657"
      ]
     },
     "execution_count": 11,
     "metadata": {},
     "output_type": "execute_result"
    }
   ],
   "source": [
    "lnr = RidgeCV(alphas=np.logspace(-50, 10, 10000))\n",
    "lnr.fit(x_trainr,y_trainr)\n",
    "r2_score(y_testr,lnr.predict(x_testr))"
   ]
  },
  {
   "cell_type": "code",
   "execution_count": null,
   "metadata": {
    "colab": {
     "base_uri": "https://localhost:8080/"
    },
    "id": "xGKsirF-dFJs",
    "outputId": "6d50b637-97ab-492a-e19a-5208cc9c9715"
   },
   "outputs": [
    {
     "data": {
      "text/plain": [
       "0.07707059092405713"
      ]
     },
     "execution_count": 16,
     "metadata": {},
     "output_type": "execute_result"
    }
   ],
   "source": [
    "lnr.alpha_"
   ]
  },
  {
   "cell_type": "markdown",
   "metadata": {
    "id": "eADko4TKd0-M"
   },
   "source": [
    "## Lasso\n",
    "\n",
    "\n",
    "\n",
    "*   from sklearn.linear_model import Lasso\n",
    "*   Parametros igual a Ridge\n",
    "\n"
   ]
  },
  {
   "cell_type": "code",
   "execution_count": null,
   "metadata": {
    "id": "a9Eo2Ietd6Ok"
   },
   "outputs": [],
   "source": [
    "from sklearn.linear_model import Lasso"
   ]
  },
  {
   "cell_type": "code",
   "execution_count": null,
   "metadata": {
    "colab": {
     "base_uri": "https://localhost:8080/"
    },
    "id": "nh3tTCxyd3At",
    "outputId": "6ca9a7ce-d786-47dd-d237-862907bfbc7d"
   },
   "outputs": [
    {
     "data": {
      "text/plain": [
       "0.705028748115436"
      ]
     },
     "execution_count": 18,
     "metadata": {},
     "output_type": "execute_result"
    }
   ],
   "source": [
    "lnl = Lasso(alpha=0.0004)\n",
    "lnl.fit(x_trainr,y_trainr)\n",
    "r2_score(y_testr,lnl.predict(x_testr))"
   ]
  },
  {
   "cell_type": "code",
   "execution_count": null,
   "metadata": {
    "id": "-KIcT-hEd2_k"
   },
   "outputs": [],
   "source": [
    "from sklearn.linear_model import LassoCV"
   ]
  },
  {
   "cell_type": "code",
   "execution_count": null,
   "metadata": {
    "colab": {
     "base_uri": "https://localhost:8080/"
    },
    "id": "0cnNBnpId246",
    "outputId": "b107775f-07c0-4118-83c3-1ad465fc277a"
   },
   "outputs": [
    {
     "name": "stderr",
     "output_type": "stream",
     "text": [
      "/usr/local/lib/python3.7/dist-packages/sklearn/linear_model/_coordinate_descent.py:527: ConvergenceWarning: Objective did not converge. You might want to increase the number of iterations. Duality gap: 2782.3897447877725, tolerance: 2.2798398283828387\n",
      "  tol, rng, random, positive)\n",
      "/usr/local/lib/python3.7/dist-packages/sklearn/linear_model/_coordinate_descent.py:527: ConvergenceWarning: Objective did not converge. You might want to increase the number of iterations. Duality gap: 2795.6332979308327, tolerance: 2.2798398283828387\n",
      "  tol, rng, random, positive)\n",
      "/usr/local/lib/python3.7/dist-packages/sklearn/linear_model/_coordinate_descent.py:527: ConvergenceWarning: Objective did not converge. You might want to increase the number of iterations. Duality gap: 2795.8829727107004, tolerance: 2.2798398283828387\n",
      "  tol, rng, random, positive)\n",
      "/usr/local/lib/python3.7/dist-packages/sklearn/linear_model/_coordinate_descent.py:527: ConvergenceWarning: Objective did not converge. You might want to increase the number of iterations. Duality gap: 2727.916884822528, tolerance: 2.4246791551155122\n",
      "  tol, rng, random, positive)\n",
      "/usr/local/lib/python3.7/dist-packages/sklearn/linear_model/_coordinate_descent.py:527: ConvergenceWarning: Objective did not converge. You might want to increase the number of iterations. Duality gap: 2754.350209224832, tolerance: 2.4246791551155122\n",
      "  tol, rng, random, positive)\n",
      "/usr/local/lib/python3.7/dist-packages/sklearn/linear_model/_coordinate_descent.py:527: ConvergenceWarning: Objective did not converge. You might want to increase the number of iterations. Duality gap: 2754.473199010509, tolerance: 2.4246791551155122\n",
      "  tol, rng, random, positive)\n",
      "/usr/local/lib/python3.7/dist-packages/sklearn/linear_model/_coordinate_descent.py:527: ConvergenceWarning: Objective did not converge. You might want to increase the number of iterations. Duality gap: 3262.7374714833554, tolerance: 2.56542594719472\n",
      "  tol, rng, random, positive)\n",
      "/usr/local/lib/python3.7/dist-packages/sklearn/linear_model/_coordinate_descent.py:527: ConvergenceWarning: Objective did not converge. You might want to increase the number of iterations. Duality gap: 3305.0436504212653, tolerance: 2.56542594719472\n",
      "  tol, rng, random, positive)\n",
      "/usr/local/lib/python3.7/dist-packages/sklearn/linear_model/_coordinate_descent.py:527: ConvergenceWarning: Objective did not converge. You might want to increase the number of iterations. Duality gap: 3305.1915743818777, tolerance: 2.56542594719472\n",
      "  tol, rng, random, positive)\n",
      "/usr/local/lib/python3.7/dist-packages/sklearn/linear_model/_coordinate_descent.py:527: ConvergenceWarning: Objective did not converge. You might want to increase the number of iterations. Duality gap: 3092.0115099778995, tolerance: 2.5027196039603963\n",
      "  tol, rng, random, positive)\n",
      "/usr/local/lib/python3.7/dist-packages/sklearn/linear_model/_coordinate_descent.py:527: ConvergenceWarning: Objective did not converge. You might want to increase the number of iterations. Duality gap: 3101.857615441157, tolerance: 2.5027196039603963\n",
      "  tol, rng, random, positive)\n",
      "/usr/local/lib/python3.7/dist-packages/sklearn/linear_model/_coordinate_descent.py:527: ConvergenceWarning: Objective did not converge. You might want to increase the number of iterations. Duality gap: 3101.996122448001, tolerance: 2.5027196039603963\n",
      "  tol, rng, random, positive)\n",
      "/usr/local/lib/python3.7/dist-packages/sklearn/linear_model/_coordinate_descent.py:527: ConvergenceWarning: Objective did not converge. You might want to increase the number of iterations. Duality gap: 3216.1264998909924, tolerance: 2.5119651052631577\n",
      "  tol, rng, random, positive)\n",
      "/usr/local/lib/python3.7/dist-packages/sklearn/linear_model/_coordinate_descent.py:527: ConvergenceWarning: Objective did not converge. You might want to increase the number of iterations. Duality gap: 3247.345423966726, tolerance: 2.5119651052631577\n",
      "  tol, rng, random, positive)\n",
      "/usr/local/lib/python3.7/dist-packages/sklearn/linear_model/_coordinate_descent.py:527: ConvergenceWarning: Objective did not converge. You might want to increase the number of iterations. Duality gap: 3247.53996755897, tolerance: 2.5119651052631577\n",
      "  tol, rng, random, positive)\n"
     ]
    },
    {
     "data": {
      "text/plain": [
       "0.6806907443176606"
      ]
     },
     "execution_count": 26,
     "metadata": {},
     "output_type": "execute_result"
    }
   ],
   "source": [
    "lnl = LassoCV(alphas=np.logspace(-20, 1, 10))\n",
    "lnl.fit(x_trainr,y_trainr)\n",
    "r2_score(y_testr,lnl.predict(x_testr))"
   ]
  },
  {
   "cell_type": "markdown",
   "metadata": {
    "id": "o5N2I62XkcID"
   },
   "source": [
    "## LassoLarsCV\n",
    "\n",
    "* Versão do Lasso para datasets com poucas amostras.\n",
    "* Ruim com datasets grandes e multicolineares"
   ]
  },
  {
   "cell_type": "code",
   "execution_count": null,
   "metadata": {
    "id": "U-oPWfjykjFo"
   },
   "outputs": [],
   "source": [
    "from sklearn.linear_model import LassoLarsCV"
   ]
  },
  {
   "cell_type": "code",
   "execution_count": null,
   "metadata": {
    "colab": {
     "base_uri": "https://localhost:8080/"
    },
    "id": "CHsZIOw2jqsW",
    "outputId": "0b43b2ac-bf00-4411-d0b9-605bda4206ce"
   },
   "outputs": [
    {
     "data": {
      "text/plain": [
       "0.7051861623220732"
      ]
     },
     "execution_count": 36,
     "metadata": {},
     "output_type": "execute_result"
    }
   ],
   "source": [
    "lnll = LassoLarsCV(cv=20)\n",
    "lnll.fit(x_trainr,y_trainr)\n",
    "r2_score(y_testr,lnll.predict(x_testr))"
   ]
  },
  {
   "cell_type": "code",
   "execution_count": null,
   "metadata": {
    "colab": {
     "base_uri": "https://localhost:8080/"
    },
    "id": "jyaz-_u4kxZ7",
    "outputId": "33f228a4-e5b9-41b0-d555-b41decd3d627"
   },
   "outputs": [
    {
     "data": {
      "text/plain": [
       "0.0"
      ]
     },
     "execution_count": 39,
     "metadata": {},
     "output_type": "execute_result"
    }
   ],
   "source": [
    "lnll.alpha_"
   ]
  },
  {
   "cell_type": "markdown",
   "metadata": {
    "id": "UlxAWaNMoUxQ"
   },
   "source": [
    "## Elastic-Net\n",
    "\n",
    "\n",
    "\n",
    "*   Alpha \n",
    "*   l1_ratio = Determina quantos % será Lasso e quantos % será ridge\n",
    "\n"
   ]
  },
  {
   "cell_type": "code",
   "execution_count": null,
   "metadata": {
    "id": "cVMWpxlFo8ce"
   },
   "outputs": [],
   "source": [
    "from sklearn.linear_model import ElasticNetCV "
   ]
  },
  {
   "cell_type": "markdown",
   "metadata": {
    "id": "FSXtoL6voUwK"
   },
   "source": []
  },
  {
   "cell_type": "code",
   "execution_count": null,
   "metadata": {
    "colab": {
     "base_uri": "https://localhost:8080/"
    },
    "id": "hmbdI2cBoTzN",
    "outputId": "9f9da04f-9283-47b6-8c76-43ffe8160d9d"
   },
   "outputs": [
    {
     "data": {
      "text/plain": [
       "0.6699474428447125"
      ]
     },
     "execution_count": 44,
     "metadata": {},
     "output_type": "execute_result"
    }
   ],
   "source": [
    "lnr = ElasticNetCV(alphas=np.logspace(-3, 1, 5))\n",
    "lnr.fit(x_trainr,y_trainr)\n",
    "r2_score(y_testr,lnr.predict(x_testr))"
   ]
  },
  {
   "cell_type": "markdown",
   "metadata": {
    "id": "bGlENyYooQ5T"
   },
   "source": [
    "# Isotonic Regression\n",
    "![image.png](data:image/png;base64,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)"
   ]
  },
  {
   "cell_type": "code",
   "execution_count": null,
   "metadata": {
    "colab": {
     "base_uri": "https://localhost:8080/"
    },
    "id": "6-I94ryroHCU",
    "outputId": "450af513-54be-4423-a270-aa47e497db32"
   },
   "outputs": [
    {
     "data": {
      "text/plain": [
       "array([1.86282267, 3.72564535])"
      ]
     },
     "execution_count": 158,
     "metadata": {},
     "output_type": "execute_result"
    }
   ],
   "source": [
    "from sklearn.datasets import make_regression\n",
    "\n",
    "from sklearn.isotonic import IsotonicRegression\n",
    "\n",
    "X, y = make_regression(n_samples=10, n_features=1, random_state=41)\n",
    "\n",
    "iso_reg = IsotonicRegression().fit(np.hstack(X), y)\n",
    "\n",
    "iso_reg.predict([.1, .2])"
   ]
  },
  {
   "cell_type": "markdown",
   "metadata": {
    "id": "K984YmgEY50Y"
   },
   "source": [
    "# Classificação"
   ]
  },
  {
   "cell_type": "markdown",
   "metadata": {
    "id": "62nIkiPSrcRX"
   },
   "source": [
    "## Logistic Regression\n",
    "\n",
    "* **penalty** (penalidade igual regressão porém em escala log)\n",
    "* **C** outra regularização\n",
    "* **solver** depende da penalidade"
   ]
  },
  {
   "cell_type": "code",
   "execution_count": null,
   "metadata": {
    "id": "vSS3rJyW-Jjr"
   },
   "outputs": [],
   "source": [
    "from sklearn.linear_model import LogisticRegression"
   ]
  },
  {
   "cell_type": "code",
   "execution_count": null,
   "metadata": {
    "colab": {
     "base_uri": "https://localhost:8080/"
    },
    "id": "8GoCa0GT-Jix",
    "outputId": "9f72a518-36b7-4762-e8af-ab3e8cdb32d9"
   },
   "outputs": [
    {
     "data": {
      "text/plain": [
       "0.9736842105263158"
      ]
     },
     "execution_count": 120,
     "metadata": {},
     "output_type": "execute_result"
    }
   ],
   "source": [
    "Lg = LogisticRegression().fit(x_trainc,y_trainc)\n",
    "Lg.score(x_testc,y_testc)"
   ]
  },
  {
   "cell_type": "markdown",
   "metadata": {
    "id": "gg_1a8FWMB9H"
   },
   "source": [
    "# Algoritmos que servem para os dois"
   ]
  },
  {
   "cell_type": "markdown",
   "metadata": {
    "id": "vgy3zaBYLEKL"
   },
   "source": [
    "## SVM \n",
    "\n",
    "* SVC = Para classificação\n",
    "\n",
    "* SVR = Para regressão\n",
    "\n",
    "**Principais paramêtros:**\n",
    "\n",
    "* Kernel: \n",
    "* C: \n",
    "* Gamma:\n",
    "* Degree:"
   ]
  },
  {
   "cell_type": "code",
   "execution_count": null,
   "metadata": {
    "id": "L95TZfJPLuwP"
   },
   "outputs": [],
   "source": [
    "from sklearn.svm import SVC"
   ]
  },
  {
   "cell_type": "code",
   "execution_count": null,
   "metadata": {
    "colab": {
     "base_uri": "https://localhost:8080/"
    },
    "id": "qOkYwsHLLAvp",
    "outputId": "eb86288a-da25-4baa-9773-b5da53d4c360"
   },
   "outputs": [
    {
     "data": {
      "text/plain": [
       "SVC(decision_function_shape='ovo')"
      ]
     },
     "execution_count": 124,
     "metadata": {},
     "output_type": "execute_result"
    }
   ],
   "source": [
    "X = [[0], [1], [2], [3]]\n",
    "Y = [0, 1, 2, 3]\n",
    "clf = SVC(decision_function_shape='ovo')\n",
    "clf.fit(X, Y)"
   ]
  },
  {
   "cell_type": "markdown",
   "metadata": {
    "id": "gdqSVRS4NIdJ"
   },
   "source": [
    "## KNN\n",
    "\n",
    "Principais parametros\n",
    "\n",
    "* n_neighbors\n",
    "* weights\n",
    "* metric\n",
    "* algorithm"
   ]
  },
  {
   "cell_type": "code",
   "execution_count": null,
   "metadata": {
    "id": "iG2A2MpiNIL1"
   },
   "outputs": [],
   "source": [
    "from sklearn.neighbors import KNeighborsClassifier"
   ]
  },
  {
   "cell_type": "code",
   "execution_count": null,
   "metadata": {
    "colab": {
     "base_uri": "https://localhost:8080/"
    },
    "id": "v1fGdIzyNQKS",
    "outputId": "e30f2368-c6bb-4e99-de82-6c0ff323aa3b"
   },
   "outputs": [
    {
     "data": {
      "text/plain": [
       "KNeighborsClassifier()"
      ]
     },
     "execution_count": 127,
     "metadata": {},
     "output_type": "execute_result"
    }
   ],
   "source": [
    "knn = KNeighborsClassifier()\n",
    "knn.fit(x_trainc,y_trainc)"
   ]
  },
  {
   "cell_type": "code",
   "execution_count": null,
   "metadata": {
    "colab": {
     "base_uri": "https://localhost:8080/"
    },
    "id": "FTqDD4IzNQBp",
    "outputId": "1957f5e0-f8c8-4a94-c2ee-a9b9d9dffac4"
   },
   "outputs": [
    {
     "data": {
      "text/plain": [
       "1.0"
      ]
     },
     "execution_count": 128,
     "metadata": {},
     "output_type": "execute_result"
    }
   ],
   "source": [
    "knn.score(x_testc,y_testc)"
   ]
  },
  {
   "cell_type": "markdown",
   "metadata": {
    "id": "PbUuX2zZNJbB"
   },
   "source": [
    "## Naive Bayes\n",
    "\n",
    "* Multinomial\n",
    "* Bernoulli\n",
    "* Gaussian"
   ]
  },
  {
   "cell_type": "code",
   "execution_count": null,
   "metadata": {
    "colab": {
     "base_uri": "https://localhost:8080/"
    },
    "id": "Hlw1TRClNII9",
    "outputId": "e9a69afc-8cc0-4ab5-d932-7ab94cdc85f6"
   },
   "outputs": [
    {
     "data": {
      "text/plain": [
       "MultinomialNB()"
      ]
     },
     "execution_count": 129,
     "metadata": {},
     "output_type": "execute_result"
    }
   ],
   "source": [
    "import numpy as np\n",
    "rng = np.random.RandomState(1)\n",
    "X = rng.randint(5, size=(6, 100))\n",
    "y = np.array([1, 2, 3, 4, 5, 6])\n",
    "from sklearn.naive_bayes import MultinomialNB\n",
    "clf = MultinomialNB()\n",
    "clf.fit(X, y)"
   ]
  },
  {
   "cell_type": "markdown",
   "metadata": {
    "id": "zHffQbF_NLEU"
   },
   "source": [
    "## Decision Trees\n",
    "\n",
    "*   from sklearn.tree import plot_tree\n",
    "*   from sklearn.tree import DecisionTreeClassifier\n",
    "\n",
    "Parametros\n",
    "\n",
    "* criterion\n",
    "* max_depth\n",
    "* min_sample_leaf\n",
    "* ccp_alpha\n",
    "* max_features"
   ]
  },
  {
   "cell_type": "code",
   "execution_count": null,
   "metadata": {
    "id": "cMHw4lGoNIC6"
   },
   "outputs": [],
   "source": [
    "from sklearn.tree import plot_tree\n",
    "from sklearn.tree import DecisionTreeClassifier"
   ]
  },
  {
   "cell_type": "code",
   "execution_count": null,
   "metadata": {
    "colab": {
     "base_uri": "https://localhost:8080/"
    },
    "id": "D7M1g69jRxhU",
    "outputId": "5fdb6d09-fe2c-40fd-d986-6dee8a355728"
   },
   "outputs": [
    {
     "data": {
      "text/plain": [
       "DecisionTreeClassifier()"
      ]
     },
     "execution_count": 131,
     "metadata": {},
     "output_type": "execute_result"
    }
   ],
   "source": [
    "dt = DecisionTreeClassifier()\n",
    "dt.fit(x_trainc,y_trainc)"
   ]
  },
  {
   "cell_type": "code",
   "execution_count": null,
   "metadata": {
    "colab": {
     "base_uri": "https://localhost:8080/",
     "height": 248
    },
    "id": "eTXIGbr3Rsch",
    "outputId": "2468c0c8-7afd-4adb-81ab-ce8367abec23"
   },
   "outputs": [
    {
     "data": {
      "image/png": "[encoded data removed]",
      "text/plain": [
       "<Figure size 432x288 with 1 Axes>"
      ]
     },
     "metadata": {
      "needs_background": "light"
     },
     "output_type": "display_data"
    }
   ],
   "source": [
    "plot_tree(dt,feature_names=X_clf.columns.tolist())\n",
    "plt.show()"
   ]
  },
  {
   "cell_type": "markdown",
   "metadata": {
    "id": "7GEQn_SREq1j"
   },
   "source": [
    "# LDA\n",
    "\n",
    "* fit_transform"
   ]
  },
  {
   "cell_type": "code",
   "execution_count": null,
   "metadata": {
    "colab": {
     "base_uri": "https://localhost:8080/"
    },
    "id": "BZPYSoFsEpNR",
    "outputId": "48f30ab7-1b80-4480-b8c1-730c8049f89c"
   },
   "outputs": [
    {
     "data": {
      "text/plain": [
       "LinearDiscriminantAnalysis()"
      ]
     },
     "execution_count": 121,
     "metadata": {},
     "output_type": "execute_result"
    }
   ],
   "source": [
    "import numpy as np\n",
    "from sklearn.discriminant_analysis import LinearDiscriminantAnalysis\n",
    "X = np.array([[-1, -1], [-2, -1], [-3, -2], [1, 1], [2, 1], [3, 2]])\n",
    "y = np.array([1, 1, 1, 2, 2, 2])\n",
    "clf = LinearDiscriminantAnalysis()\n",
    "clf.fit(X, y)"
   ]
  },
  {
   "cell_type": "markdown",
   "metadata": {
    "id": "7OAgx7tYgFxZ"
   },
   "source": [
    "# Rede Neural"
   ]
  },
  {
   "cell_type": "markdown",
   "metadata": {
    "id": "xGUMUqMglgRu"
   },
   "source": [
    "## Perceptron\n",
    "![image.png](data:image/png;base64,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)"
   ]
  },
  {
   "cell_type": "code",
   "execution_count": 13,
   "metadata": {
    "colab": {
     "base_uri": "https://localhost:8080/"
    },
    "id": "DJ_IUVEhgFGh",
    "outputId": "9a160fb7-8dd5-4e32-ccbc-76bf2bf55125"
   },
   "outputs": [
    {
     "data": {
      "text/plain": [
       "array([1.        , 1.        , 1.        , 0.33333333, 0.        ,\n",
       "       0.        , 0.73333333, 0.93333333, 0.4       , 1.        ])"
      ]
     },
     "execution_count": 13,
     "metadata": {},
     "output_type": "execute_result"
    }
   ],
   "source": [
    "from sklearn.linear_model import Perceptron\n",
    "from sklearn.model_selection import cross_val_score\n",
    "from sklearn.model_selection import KFold\n",
    "\n",
    "kfold = KFold(n_splits=10)\n",
    "model = OneVsRestClassifier(Perceptron())\n",
    "\n",
    "cross_val_score(model,X_clf,Y_clf,cv=kfold)"
   ]
  },
  {
   "cell_type": "markdown",
   "metadata": {
    "id": "FFYFWwXXKHQs"
   },
   "source": [
    "## MLP"
   ]
  },
  {
   "cell_type": "code",
   "execution_count": 55,
   "metadata": {
    "colab": {
     "base_uri": "https://localhost:8080/"
    },
    "id": "He0iUFUrpvZw",
    "outputId": "b33d2db6-6a83-404f-8912-d9cbe5145940"
   },
   "outputs": [
    {
     "name": "stderr",
     "output_type": "stream",
     "text": [
      "/usr/local/lib/python3.7/dist-packages/sklearn/neural_network/_multilayer_perceptron.py:585: ConvergenceWarning: Stochastic Optimizer: Maximum iterations (200) reached and the optimization hasn't converged yet.\n",
      "  # early_stopping in partial_fit doesn't make sense\n",
      "/usr/local/lib/python3.7/dist-packages/sklearn/neural_network/_multilayer_perceptron.py:585: ConvergenceWarning: Stochastic Optimizer: Maximum iterations (200) reached and the optimization hasn't converged yet.\n",
      "  # early_stopping in partial_fit doesn't make sense\n",
      "/usr/local/lib/python3.7/dist-packages/sklearn/neural_network/_multilayer_perceptron.py:585: ConvergenceWarning: Stochastic Optimizer: Maximum iterations (200) reached and the optimization hasn't converged yet.\n",
      "  # early_stopping in partial_fit doesn't make sense\n",
      "/usr/local/lib/python3.7/dist-packages/sklearn/neural_network/_multilayer_perceptron.py:585: ConvergenceWarning: Stochastic Optimizer: Maximum iterations (200) reached and the optimization hasn't converged yet.\n",
      "  # early_stopping in partial_fit doesn't make sense\n",
      "/usr/local/lib/python3.7/dist-packages/sklearn/neural_network/_multilayer_perceptron.py:585: ConvergenceWarning: Stochastic Optimizer: Maximum iterations (200) reached and the optimization hasn't converged yet.\n",
      "  # early_stopping in partial_fit doesn't make sense\n",
      "/usr/local/lib/python3.7/dist-packages/sklearn/neural_network/_multilayer_perceptron.py:585: ConvergenceWarning: Stochastic Optimizer: Maximum iterations (200) reached and the optimization hasn't converged yet.\n",
      "  # early_stopping in partial_fit doesn't make sense\n",
      "/usr/local/lib/python3.7/dist-packages/sklearn/neural_network/_multilayer_perceptron.py:585: ConvergenceWarning: Stochastic Optimizer: Maximum iterations (200) reached and the optimization hasn't converged yet.\n",
      "  # early_stopping in partial_fit doesn't make sense\n",
      "/usr/local/lib/python3.7/dist-packages/sklearn/neural_network/_multilayer_perceptron.py:585: ConvergenceWarning: Stochastic Optimizer: Maximum iterations (200) reached and the optimization hasn't converged yet.\n",
      "  # early_stopping in partial_fit doesn't make sense\n",
      "/usr/local/lib/python3.7/dist-packages/sklearn/neural_network/_multilayer_perceptron.py:585: ConvergenceWarning: Stochastic Optimizer: Maximum iterations (200) reached and the optimization hasn't converged yet.\n",
      "  # early_stopping in partial_fit doesn't make sense\n",
      "/usr/local/lib/python3.7/dist-packages/sklearn/neural_network/_multilayer_perceptron.py:585: ConvergenceWarning: Stochastic Optimizer: Maximum iterations (200) reached and the optimization hasn't converged yet.\n",
      "  # early_stopping in partial_fit doesn't make sense\n"
     ]
    },
    {
     "data": {
      "text/plain": [
       "0.21880281991908576"
      ]
     },
     "execution_count": 55,
     "metadata": {},
     "output_type": "execute_result"
    }
   ],
   "source": [
    "from sklearn.neural_network import MLPRegressor\n",
    "mlp = MLPRegressor(hidden_layer_sizes=(200,200,200))\n",
    "cross_val_score(mlp,X_reg,Y_reg,cv=kfold,scoring='r2').mean()"
   ]
  },
  {
   "cell_type": "markdown",
   "metadata": {
    "id": "wPUkXoM01kxg"
   },
   "source": [
    "# Problemas multiclass \n",
    "Para problemas multiclass podemos utilizar de duas funções uteis do Sklearn sendo elas:\n",
    "\n",
    "**OneVsRestClassifier**:\n",
    "Que funciona da seguinte maneira\n",
    "* Binary Classification Problem 1: red vs [blue, green]\n",
    "* Binary Classification Problem 2: blue vs [red, green]\n",
    "* Binary Classification Problem 3: green vs [red, blue]\n",
    " \n",
    "\n",
    "**OneVsOneClassifier**:\n",
    "Já para o OneVsOne\n",
    "* Binary Classification Problem 1: red vs. blue\n",
    "* Binary Classification Problem 2: red vs. green\n",
    "* Binary Classification Problem 3: red vs. yellow\n",
    "* Binary Classification Problem 4: blue vs. green\n",
    "* Binary Classification Problem 5: blue vs. yellow\n",
    "* Binary Classification Problem 6: green vs. yellow\n",
    "\n",
    "Os principais algoritmos utilizados são **Logistic Regression** e **Perceptron**."
   ]
  },
  {
   "cell_type": "code",
   "execution_count": 8,
   "metadata": {
    "id": "WLaYyjWIuoB8"
   },
   "outputs": [],
   "source": [
    "from sklearn.metrics import classification_report\n",
    "from sklearn.metrics import confusion_matrix\n",
    "from sklearn.preprocessing import StandardScaler\n",
    "from sklearn.multiclass import OneVsRestClassifier\n",
    "from sklearn.linear_model import LogisticRegression"
   ]
  },
  {
   "cell_type": "code",
   "execution_count": null,
   "metadata": {
    "id": "SBCmnKgnZD0e"
   },
   "outputs": [],
   "source": [
    "x_trainc,x_testc,y_trainc,y_testc = train_test_split(X_clf,Y_clf)"
   ]
  },
  {
   "cell_type": "code",
   "execution_count": null,
   "metadata": {
    "id": "q7LweasGwpb7"
   },
   "outputs": [],
   "source": [
    "scaler = StandardScaler()\n",
    "scaler.fit(x_trainc)\n",
    "x_trainc = scaler.transform(x_trainc)\n",
    "x_testc = scaler.transform(x_testc)"
   ]
  },
  {
   "cell_type": "code",
   "execution_count": null,
   "metadata": {
    "id": "m7ck_onER_rS"
   },
   "outputs": [],
   "source": [
    "model_multiclass = OneVsRestClassifier(LogisticRegression()).fit(x_trainc,y_trainc)"
   ]
  },
  {
   "cell_type": "code",
   "execution_count": null,
   "metadata": {
    "colab": {
     "base_uri": "https://localhost:8080/"
    },
    "id": "6h3WkoleuHOA",
    "outputId": "436e345a-cb2c-4b75-a54a-9bca559f2a52"
   },
   "outputs": [
    {
     "data": {
      "text/plain": [
       "0.9210526315789473"
      ]
     },
     "execution_count": 117,
     "metadata": {},
     "output_type": "execute_result"
    }
   ],
   "source": [
    "model_multiclass.score(x_testc,y_testc)"
   ]
  },
  {
   "cell_type": "code",
   "execution_count": null,
   "metadata": {
    "colab": {
     "base_uri": "https://localhost:8080/"
    },
    "id": "3rRJ8Ia9uXTp",
    "outputId": "736b1bac-e272-4045-fc27-2da9d40f7b88"
   },
   "outputs": [
    {
     "name": "stdout",
     "output_type": "stream",
     "text": [
      "              precision    recall  f1-score   support\n",
      "\n",
      "           0       1.00      1.00      1.00        14\n",
      "           1       1.00      0.75      0.86        12\n",
      "           2       0.80      1.00      0.89        12\n",
      "\n",
      "    accuracy                           0.92        38\n",
      "   macro avg       0.93      0.92      0.92        38\n",
      "weighted avg       0.94      0.92      0.92        38\n",
      "\n"
     ]
    }
   ],
   "source": [
    "print(classification_report(y_testc,model_multiclass.predict(x_testc)))"
   ]
  },
  {
   "cell_type": "markdown",
   "metadata": {
    "id": "TDk6u-AJXOpb"
   },
   "source": [
    "# Calibração De Modelos\n",
    "\n",
    "A calibração tem como objetivo calibrar a probabilidade advinda do **predict_proba** dos modelos, caso o modelo não tenha o predict_proba, podemos utilizar o **CalibratedClassifierCV**. \n",
    "\n",
    "**ALERTA** [ SE FITARMOS O NOSSO CLASSIFICADOR, TEREMOS QUE FITAR A CALIBRAÇÃO COM O CLASSIFICAR COM NOVOS DADOS ]"
   ]
  },
  {
   "cell_type": "code",
   "execution_count": null,
   "metadata": {
    "id": "I3NHFfMTbY8U"
   },
   "outputs": [],
   "source": [
    "from sklearn.calibration import CalibratedClassifierCV\n",
    "from sklearn.datasets import make_classification"
   ]
  },
  {
   "cell_type": "code",
   "execution_count": null,
   "metadata": {
    "colab": {
     "base_uri": "https://localhost:8080/"
    },
    "id": "L1zv_OKjL1q9",
    "outputId": "907911a5-ce60-478b-cf35-ac1a9534b3f8"
   },
   "outputs": [
    {
     "data": {
      "text/plain": [
       "array([[0.86739646, 0.13260354]])"
      ]
     },
     "execution_count": 140,
     "metadata": {},
     "output_type": "execute_result"
    }
   ],
   "source": [
    "X, y = make_classification(n_samples=100, n_features=2, n_redundant=0, random_state=42)\n",
    "\n",
    "X_train, X_calib, y_train, y_calib = train_test_split( X, y, random_state=42 ) # SEPARANDO X CALIB X TRAIN\n",
    "\n",
    "base_clf = LogisticRegression()\n",
    "\n",
    "base_clf.fit(X_train, y_train)\n",
    "\n",
    "calibrated_clf = CalibratedClassifierCV(base_estimator=base_clf, cv=\"prefit\")\n",
    "\n",
    "calibrated_clf.fit(X_calib, y_calib)\n",
    "\n",
    "CalibratedClassifierCV(base_estimator=LogisticRegression(), cv='prefit')\n",
    "\n",
    "len(calibrated_clf.calibrated_classifiers_)\n",
    "\n",
    "calibrated_clf.predict_proba([[-0.5, 0.5]])\n"
   ]
  },
  {
   "cell_type": "code",
   "execution_count": null,
   "metadata": {
    "id": "BRZJEFvEbkdU"
   },
   "outputs": [],
   "source": []
  }
 ],
 "metadata": {
  "colab": {
   "collapsed_sections": [
    "_5MaUeZPZIyx",
    "PF85qvpI89jW",
    "JmcskjMl-5Rx",
    "eADko4TKd0-M",
    "o5N2I62XkcID",
    "UlxAWaNMoUxQ",
    "N7LyuUZEBjjY",
    "bGlENyYooQ5T",
    "K984YmgEY50Y",
    "62nIkiPSrcRX",
    "gg_1a8FWMB9H",
    "vgy3zaBYLEKL",
    "gdqSVRS4NIdJ",
    "PbUuX2zZNJbB",
    "zHffQbF_NLEU",
    "wPUkXoM01kxg",
    "TDk6u-AJXOpb"
   ],
   "name": "Aprendizagem Supervisionada",
   "provenance": []
  },
  "kernelspec": {
   "display_name": "Python 3 (ipykernel)",
   "language": "python",
   "name": "python3"
  },
  "language_info": {
   "codemirror_mode": {
    "name": "ipython",
    "version": 3
   },
   "file_extension": ".py",
   "mimetype": "text/x-python",
   "name": "python",
   "nbconvert_exporter": "python",
   "pygments_lexer": "ipython3",
   "version": "3.9.7"
  },
  "toc": {
   "base_numbering": 1,
   "nav_menu": {},
   "number_sections": true,
   "sideBar": true,
   "skip_h1_title": false,
   "title_cell": "Table of Contents",
   "title_sidebar": "Contents",
   "toc_cell": false,
   "toc_position": {},
   "toc_section_display": true,
   "toc_window_display": false
  }
 },
 "nbformat": 4,
 "nbformat_minor": 1
}
