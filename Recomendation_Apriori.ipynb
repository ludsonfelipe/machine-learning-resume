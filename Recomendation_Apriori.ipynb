{
 "cells": [
  {
   "cell_type": "code",
   "execution_count": 2,
   "id": "1b7d967c",
   "metadata": {
    "ExecuteTime": {
     "end_time": "2022-04-09T03:52:53.032497Z",
     "start_time": "2022-04-09T03:52:47.188830Z"
    }
   },
   "outputs": [
    {
     "name": "stdout",
     "output_type": "stream",
     "text": [
      "Collecting apyori\n",
      "  Downloading apyori-1.1.2.tar.gz (8.6 kB)\n",
      "  Preparing metadata (setup.py): started\n",
      "  Preparing metadata (setup.py): finished with status 'done'\n",
      "Building wheels for collected packages: apyori\n",
      "  Building wheel for apyori (setup.py): started\n",
      "  Building wheel for apyori (setup.py): finished with status 'done'\n",
      "  Created wheel for apyori: filename=apyori-1.1.2-py3-none-any.whl size=5974 sha256=52cacf6f2ae80c53c75a2f5409349f48046ca84c7367779623388260338a9961\n",
      "  Stored in directory: c:\\users\\felip\\appdata\\local\\pip\\cache\\wheels\\32\\2a\\54\\10c595515f385f3726642b10c60bf788029e8f3a1323e3913a\n",
      "Successfully built apyori\n",
      "Installing collected packages: apyori\n",
      "Successfully installed apyori-1.1.2\n"
     ]
    }
   ],
   "source": [
    "# !pip install apyori"
   ]
  },
  {
   "cell_type": "code",
   "execution_count": 1,
   "id": "175e34af",
   "metadata": {
    "ExecuteTime": {
     "end_time": "2022-04-14T23:27:03.516114Z",
     "start_time": "2022-04-14T23:27:02.703367Z"
    }
   },
   "outputs": [],
   "source": [
    "import pandas as pd\n",
    "from apyori import apriori"
   ]
  },
  {
   "cell_type": "markdown",
   "id": "18736a5d",
   "metadata": {},
   "source": [
    "# Carregando dados"
   ]
  },
  {
   "cell_type": "code",
   "execution_count": 2,
   "id": "17b5f436",
   "metadata": {
    "ExecuteTime": {
     "end_time": "2022-04-14T23:27:03.548107Z",
     "start_time": "2022-04-14T23:27:03.517116Z"
    }
   },
   "outputs": [],
   "source": [
    "mercado = pd.read_csv('C:/Users/felip/Desktop/2022 Estudos/Python/Sistemas De Recomendação/mercado.csv',header=None)"
   ]
  },
  {
   "cell_type": "markdown",
   "id": "925acf41",
   "metadata": {},
   "source": [
    "Compras de varias pessoas em uma padaria\n",
    "\n",
    "coluna 0: primeiro item\n",
    "\n",
    "coluna 1, 2...: proximos itens"
   ]
  },
  {
   "cell_type": "code",
   "execution_count": 3,
   "id": "b3432e70",
   "metadata": {},
   "outputs": [
    {
     "data": {
      "text/html": [
       "<div>\n",
       "<style scoped>\n",
       "    .dataframe tbody tr th:only-of-type {\n",
       "        vertical-align: middle;\n",
       "    }\n",
       "\n",
       "    .dataframe tbody tr th {\n",
       "        vertical-align: top;\n",
       "    }\n",
       "\n",
       "    .dataframe thead th {\n",
       "        text-align: right;\n",
       "    }\n",
       "</style>\n",
       "<table border=\"1\" class=\"dataframe\">\n",
       "  <thead>\n",
       "    <tr style=\"text-align: right;\">\n",
       "      <th></th>\n",
       "      <th>0</th>\n",
       "      <th>1</th>\n",
       "      <th>2</th>\n",
       "      <th>3</th>\n",
       "    </tr>\n",
       "  </thead>\n",
       "  <tbody>\n",
       "    <tr>\n",
       "      <th>0</th>\n",
       "      <td>leite</td>\n",
       "      <td>cerveja</td>\n",
       "      <td>pao</td>\n",
       "      <td>manteiga</td>\n",
       "    </tr>\n",
       "    <tr>\n",
       "      <th>1</th>\n",
       "      <td>cafe</td>\n",
       "      <td>pao</td>\n",
       "      <td>manteiga</td>\n",
       "      <td>NaN</td>\n",
       "    </tr>\n",
       "    <tr>\n",
       "      <th>2</th>\n",
       "      <td>cafe</td>\n",
       "      <td>pao</td>\n",
       "      <td>manteiga</td>\n",
       "      <td>NaN</td>\n",
       "    </tr>\n",
       "    <tr>\n",
       "      <th>3</th>\n",
       "      <td>leite</td>\n",
       "      <td>cafe</td>\n",
       "      <td>pao</td>\n",
       "      <td>manteiga</td>\n",
       "    </tr>\n",
       "    <tr>\n",
       "      <th>4</th>\n",
       "      <td>cerveja</td>\n",
       "      <td>NaN</td>\n",
       "      <td>NaN</td>\n",
       "      <td>NaN</td>\n",
       "    </tr>\n",
       "    <tr>\n",
       "      <th>5</th>\n",
       "      <td>manteiga</td>\n",
       "      <td>NaN</td>\n",
       "      <td>NaN</td>\n",
       "      <td>NaN</td>\n",
       "    </tr>\n",
       "    <tr>\n",
       "      <th>6</th>\n",
       "      <td>pao</td>\n",
       "      <td>NaN</td>\n",
       "      <td>NaN</td>\n",
       "      <td>NaN</td>\n",
       "    </tr>\n",
       "    <tr>\n",
       "      <th>7</th>\n",
       "      <td>feijao</td>\n",
       "      <td>NaN</td>\n",
       "      <td>NaN</td>\n",
       "      <td>NaN</td>\n",
       "    </tr>\n",
       "    <tr>\n",
       "      <th>8</th>\n",
       "      <td>arroz</td>\n",
       "      <td>feijao</td>\n",
       "      <td>NaN</td>\n",
       "      <td>NaN</td>\n",
       "    </tr>\n",
       "    <tr>\n",
       "      <th>9</th>\n",
       "      <td>arroz</td>\n",
       "      <td>NaN</td>\n",
       "      <td>NaN</td>\n",
       "      <td>NaN</td>\n",
       "    </tr>\n",
       "  </tbody>\n",
       "</table>\n",
       "</div>"
      ],
      "text/plain": [
       "          0        1         2         3\n",
       "0     leite  cerveja       pao  manteiga\n",
       "1      cafe      pao  manteiga       NaN\n",
       "2      cafe      pao  manteiga       NaN\n",
       "3     leite     cafe       pao  manteiga\n",
       "4   cerveja      NaN       NaN       NaN\n",
       "5  manteiga      NaN       NaN       NaN\n",
       "6       pao      NaN       NaN       NaN\n",
       "7    feijao      NaN       NaN       NaN\n",
       "8     arroz   feijao       NaN       NaN\n",
       "9     arroz      NaN       NaN       NaN"
      ]
     },
     "execution_count": 3,
     "metadata": {},
     "output_type": "execute_result"
    }
   ],
   "source": [
    "mercado"
   ]
  },
  {
   "cell_type": "markdown",
   "id": "d45129c1",
   "metadata": {},
   "source": [
    "# Transformando em lista e str\n",
    "Para utilizar o algoritmo Apriori precisamos que cada compras dos clientes sejam uma lista, e que os nan sejam considerados string."
   ]
  },
  {
   "cell_type": "code",
   "execution_count": 7,
   "id": "ab2b0e20",
   "metadata": {
    "ExecuteTime": {
     "end_time": "2022-04-14T23:27:56.574289Z",
     "start_time": "2022-04-14T23:27:56.569302Z"
    }
   },
   "outputs": [],
   "source": [
    "lista = mercado.to_numpy().astype('str').tolist()"
   ]
  },
  {
   "cell_type": "code",
   "execution_count": 8,
   "id": "e1854d5f",
   "metadata": {
    "ExecuteTime": {
     "end_time": "2022-04-14T23:28:00.357159Z",
     "start_time": "2022-04-14T23:28:00.337186Z"
    }
   },
   "outputs": [
    {
     "data": {
      "text/plain": [
       "[['leite', 'cerveja', 'pao', 'manteiga'],\n",
       " ['cafe', 'pao', 'manteiga', 'nan'],\n",
       " ['cafe', 'pao', 'manteiga', 'nan'],\n",
       " ['leite', 'cafe', 'pao', 'manteiga'],\n",
       " ['cerveja', 'nan', 'nan', 'nan'],\n",
       " ['manteiga', 'nan', 'nan', 'nan'],\n",
       " ['pao', 'nan', 'nan', 'nan'],\n",
       " ['feijao', 'nan', 'nan', 'nan'],\n",
       " ['arroz', 'feijao', 'nan', 'nan'],\n",
       " ['arroz', 'nan', 'nan', 'nan']]"
      ]
     },
     "execution_count": 8,
     "metadata": {},
     "output_type": "execute_result"
    }
   ],
   "source": [
    "lista"
   ]
  },
  {
   "cell_type": "markdown",
   "id": "52a42a00",
   "metadata": {},
   "source": [
    "# Utilizando algoritmo parametros importantes"
   ]
  },
  {
   "cell_type": "markdown",
   "id": "e5a6c66c",
   "metadata": {},
   "source": [
    "* Suporte = Calculamos o quanto um determinado produto aparece na base de dados, ao definir um suporte estamos limitando nossa base a produtos que aparecem mais vezes.\n",
    "* O suporte também é calculado para conjuntos de produtos ex: se definirmos um suporte de 20%, desejamos encontrar produtos que aparecem juntos mais de 20% das vezes.\n",
    "\n",
    "* Suporte do café 3/10 = 0.3\n",
    "* Suporte do pão 5/10 = 0.5"
   ]
  },
  {
   "cell_type": "markdown",
   "id": "ec33330e",
   "metadata": {},
   "source": [
    "* Confiança = A confiança representa a ocorrencia de dois produtos juntos, em comparação a sua apariçao sozinha ou com outros produtos. Exemplo: se temos 3 ocorrencia de café depois pão no nosso dataset, e também sabemos que no total temos 3 compras de café, e 5 compras de pão, temos confiança de 100% para quem compra café e pão, afinal todas compras de café vinheram acompanhadas com o pão, e confiança de 60% para quem compra pão e café, pois tivemos 5 compras de pão, mas apenas 3 delas foram juntas com café. Ou seja nem todo mundo que compra pão compra café, mas todo mundo que compra café compra pão;"
   ]
  },
  {
   "cell_type": "markdown",
   "id": "a2cd008c",
   "metadata": {},
   "source": [
    "* Lift = Para usar o lift, ele representa a nossa confiança dividida pelo nosso suporte, por exemplo, sabemos que se comprarmos café então temos confiança de 100% para comprar pão, também sabemos que o pão é comprado em 50% das nossas compras. Logo calculamos nosso lift como (100/50) = 2. Se o nosso lift é maior que 1, significa que os produtos devem ser comprados juntos, se for menor que 1 é improvavel que sejam comprados juntos. Nesse caso onde o lift é igual 2, interpretamos isso dizendo que clientes que compram café tem 2x mais chance de comprar pão."
   ]
  },
  {
   "cell_type": "code",
   "execution_count": 15,
   "id": "64db94f4",
   "metadata": {
    "ExecuteTime": {
     "end_time": "2022-04-14T23:35:41.930168Z",
     "start_time": "2022-04-14T23:35:41.921217Z"
    }
   },
   "outputs": [],
   "source": [
    "result = apriori(lista, min_support = 0.3, min_confidence = 0.8, min_lift = 2)\n",
    "resultados = list(result)\n",
    "resultados\n"
   ]
  },
  {
   "cell_type": "code",
   "execution_count": 18,
   "id": "2e408854",
   "metadata": {
    "ExecuteTime": {
     "end_time": "2022-04-14T23:39:56.815169Z",
     "start_time": "2022-04-14T23:39:56.802203Z"
    }
   },
   "outputs": [],
   "source": [
    "s_l = []\n",
    "se_l = []\n",
    "entao_l = []\n",
    "c_l = []\n",
    "l_l = []\n",
    "\n",
    "for resultado in resultados:\n",
    "    s = resultado[1]\n",
    "    for item in resultado[2]:\n",
    "        se = list(item[0])\n",
    "        se_l.append(se)\n",
    "        entao = list(item[1])\n",
    "        entao_l.append(entao)\n",
    "        c = item[2]\n",
    "        c_l.append(c)\n",
    "        l = item[3]\n",
    "        l_l.append(l)\n",
    "        s_l.append(s)\n",
    "\n",
    "        "
   ]
  },
  {
   "cell_type": "code",
   "execution_count": 19,
   "id": "b87f242d",
   "metadata": {
    "ExecuteTime": {
     "end_time": "2022-04-14T23:39:58.662492Z",
     "start_time": "2022-04-14T23:39:58.648527Z"
    }
   },
   "outputs": [
    {
     "data": {
      "text/plain": [
       "[0.3, 0.3, 0.3, 0.3, 0.3]"
      ]
     },
     "execution_count": 19,
     "metadata": {},
     "output_type": "execute_result"
    }
   ],
   "source": [
    "s_l"
   ]
  },
  {
   "cell_type": "code",
   "execution_count": 20,
   "id": "4cc3f660",
   "metadata": {
    "ExecuteTime": {
     "end_time": "2022-04-14T23:40:08.908929Z",
     "start_time": "2022-04-14T23:40:08.897934Z"
    }
   },
   "outputs": [
    {
     "data": {
      "text/plain": [
       "[['cafe'], ['cafe'], ['cafe'], ['manteiga', 'cafe'], ['pao', 'cafe']]"
      ]
     },
     "execution_count": 20,
     "metadata": {},
     "output_type": "execute_result"
    }
   ],
   "source": [
    "se_l"
   ]
  },
  {
   "cell_type": "code",
   "execution_count": 21,
   "id": "ba0b1881",
   "metadata": {
    "ExecuteTime": {
     "end_time": "2022-04-14T23:40:13.020558Z",
     "start_time": "2022-04-14T23:40:13.008583Z"
    }
   },
   "outputs": [
    {
     "data": {
      "text/plain": [
       "[['manteiga'], ['pao'], ['manteiga', 'pao'], ['pao'], ['manteiga']]"
      ]
     },
     "execution_count": 21,
     "metadata": {},
     "output_type": "execute_result"
    }
   ],
   "source": [
    "entao_l"
   ]
  },
  {
   "cell_type": "code",
   "execution_count": 22,
   "id": "bb7ae153",
   "metadata": {
    "ExecuteTime": {
     "end_time": "2022-04-14T23:40:16.409599Z",
     "start_time": "2022-04-14T23:40:16.400598Z"
    }
   },
   "outputs": [
    {
     "data": {
      "text/plain": [
       "[1.0, 1.0, 1.0, 1.0, 1.0]"
      ]
     },
     "execution_count": 22,
     "metadata": {},
     "output_type": "execute_result"
    }
   ],
   "source": [
    "c_l"
   ]
  },
  {
   "cell_type": "code",
   "execution_count": 23,
   "id": "17575ae7",
   "metadata": {
    "ExecuteTime": {
     "end_time": "2022-04-14T23:40:18.343746Z",
     "start_time": "2022-04-14T23:40:18.327763Z"
    }
   },
   "outputs": [
    {
     "data": {
      "text/plain": [
       "[2.0, 2.0, 2.5, 2.0, 2.0]"
      ]
     },
     "execution_count": 23,
     "metadata": {},
     "output_type": "execute_result"
    }
   ],
   "source": [
    "l_l"
   ]
  },
  {
   "cell_type": "code",
   "execution_count": 24,
   "id": "debbc4bd",
   "metadata": {
    "ExecuteTime": {
     "end_time": "2022-04-14T23:40:23.622530Z",
     "start_time": "2022-04-14T23:40:23.607596Z"
    }
   },
   "outputs": [],
   "source": [
    "df = pd.DataFrame({'se':se_l,\n",
    "             'entao':entao_l,\n",
    "             'sup':s_l,\n",
    "             'confianca':c_l,\n",
    "             'lift':l_l})"
   ]
  },
  {
   "cell_type": "code",
   "execution_count": 25,
   "id": "a0adb110",
   "metadata": {
    "ExecuteTime": {
     "end_time": "2022-04-14T23:40:24.151298Z",
     "start_time": "2022-04-14T23:40:24.137308Z"
    }
   },
   "outputs": [
    {
     "data": {
      "text/html": [
       "<div>\n",
       "<style scoped>\n",
       "    .dataframe tbody tr th:only-of-type {\n",
       "        vertical-align: middle;\n",
       "    }\n",
       "\n",
       "    .dataframe tbody tr th {\n",
       "        vertical-align: top;\n",
       "    }\n",
       "\n",
       "    .dataframe thead th {\n",
       "        text-align: right;\n",
       "    }\n",
       "</style>\n",
       "<table border=\"1\" class=\"dataframe\">\n",
       "  <thead>\n",
       "    <tr style=\"text-align: right;\">\n",
       "      <th></th>\n",
       "      <th>se</th>\n",
       "      <th>entao</th>\n",
       "      <th>sup</th>\n",
       "      <th>confianca</th>\n",
       "      <th>lift</th>\n",
       "    </tr>\n",
       "  </thead>\n",
       "  <tbody>\n",
       "    <tr>\n",
       "      <th>0</th>\n",
       "      <td>[cafe]</td>\n",
       "      <td>[manteiga]</td>\n",
       "      <td>0.3</td>\n",
       "      <td>1.0</td>\n",
       "      <td>2.0</td>\n",
       "    </tr>\n",
       "    <tr>\n",
       "      <th>1</th>\n",
       "      <td>[cafe]</td>\n",
       "      <td>[pao]</td>\n",
       "      <td>0.3</td>\n",
       "      <td>1.0</td>\n",
       "      <td>2.0</td>\n",
       "    </tr>\n",
       "    <tr>\n",
       "      <th>2</th>\n",
       "      <td>[cafe]</td>\n",
       "      <td>[manteiga, pao]</td>\n",
       "      <td>0.3</td>\n",
       "      <td>1.0</td>\n",
       "      <td>2.5</td>\n",
       "    </tr>\n",
       "    <tr>\n",
       "      <th>3</th>\n",
       "      <td>[manteiga, cafe]</td>\n",
       "      <td>[pao]</td>\n",
       "      <td>0.3</td>\n",
       "      <td>1.0</td>\n",
       "      <td>2.0</td>\n",
       "    </tr>\n",
       "    <tr>\n",
       "      <th>4</th>\n",
       "      <td>[pao, cafe]</td>\n",
       "      <td>[manteiga]</td>\n",
       "      <td>0.3</td>\n",
       "      <td>1.0</td>\n",
       "      <td>2.0</td>\n",
       "    </tr>\n",
       "  </tbody>\n",
       "</table>\n",
       "</div>"
      ],
      "text/plain": [
       "                 se            entao  sup  confianca  lift\n",
       "0            [cafe]       [manteiga]  0.3        1.0   2.0\n",
       "1            [cafe]            [pao]  0.3        1.0   2.0\n",
       "2            [cafe]  [manteiga, pao]  0.3        1.0   2.5\n",
       "3  [manteiga, cafe]            [pao]  0.3        1.0   2.0\n",
       "4       [pao, cafe]       [manteiga]  0.3        1.0   2.0"
      ]
     },
     "execution_count": 25,
     "metadata": {},
     "output_type": "execute_result"
    }
   ],
   "source": [
    "df"
   ]
  },
  {
   "cell_type": "markdown",
   "id": "a0f258da",
   "metadata": {},
   "source": [
    "# ECLAT\n",
    "\n",
    "Algoritmo ECLAT para metrificação de compras juntas"
   ]
  },
  {
   "cell_type": "code",
   "execution_count": 117,
   "id": "08f6c74c",
   "metadata": {
    "ExecuteTime": {
     "end_time": "2022-04-09T05:57:45.597695Z",
     "start_time": "2022-04-09T05:57:41.182587Z"
    }
   },
   "outputs": [
    {
     "name": "stdout",
     "output_type": "stream",
     "text": [
      "Collecting pyECLAT\n",
      "  Downloading pyECLAT-1.0.2-py3-none-any.whl (6.3 kB)\n",
      "Requirement already satisfied: pandas>=0.25.3 in c:\\users\\felip\\anaconda3\\lib\\site-packages (from pyECLAT) (1.3.4)\n",
      "Requirement already satisfied: tqdm>=4.41.1 in c:\\users\\felip\\anaconda3\\lib\\site-packages (from pyECLAT) (4.62.3)\n",
      "Requirement already satisfied: numpy>=1.17.4 in c:\\users\\felip\\anaconda3\\lib\\site-packages (from pyECLAT) (1.22.3)\n",
      "Requirement already satisfied: python-dateutil>=2.7.3 in c:\\users\\felip\\anaconda3\\lib\\site-packages (from pandas>=0.25.3->pyECLAT) (2.8.2)\n",
      "Requirement already satisfied: pytz>=2017.3 in c:\\users\\felip\\anaconda3\\lib\\site-packages (from pandas>=0.25.3->pyECLAT) (2021.3)\n",
      "Requirement already satisfied: colorama in c:\\users\\felip\\anaconda3\\lib\\site-packages (from tqdm>=4.41.1->pyECLAT) (0.4.4)\n",
      "Requirement already satisfied: six>=1.5 in c:\\users\\felip\\anaconda3\\lib\\site-packages (from python-dateutil>=2.7.3->pandas>=0.25.3->pyECLAT) (1.16.0)\n",
      "Installing collected packages: pyECLAT\n",
      "Successfully installed pyECLAT-1.0.2\n"
     ]
    }
   ],
   "source": [
    "#!pip install pyECLAT"
   ]
  },
  {
   "cell_type": "code",
   "execution_count": 28,
   "id": "bf873dab",
   "metadata": {
    "ExecuteTime": {
     "end_time": "2022-04-14T23:41:38.976446Z",
     "start_time": "2022-04-14T23:41:38.945494Z"
    }
   },
   "outputs": [],
   "source": [
    "from pyECLAT import ECLAT"
   ]
  },
  {
   "cell_type": "code",
   "execution_count": 29,
   "id": "d4d1f56c",
   "metadata": {
    "ExecuteTime": {
     "end_time": "2022-04-14T23:41:39.365132Z",
     "start_time": "2022-04-14T23:41:39.352168Z"
    }
   },
   "outputs": [
    {
     "data": {
      "text/html": [
       "<div>\n",
       "<style scoped>\n",
       "    .dataframe tbody tr th:only-of-type {\n",
       "        vertical-align: middle;\n",
       "    }\n",
       "\n",
       "    .dataframe tbody tr th {\n",
       "        vertical-align: top;\n",
       "    }\n",
       "\n",
       "    .dataframe thead th {\n",
       "        text-align: right;\n",
       "    }\n",
       "</style>\n",
       "<table border=\"1\" class=\"dataframe\">\n",
       "  <thead>\n",
       "    <tr style=\"text-align: right;\">\n",
       "      <th></th>\n",
       "      <th>0</th>\n",
       "      <th>1</th>\n",
       "      <th>2</th>\n",
       "      <th>3</th>\n",
       "    </tr>\n",
       "  </thead>\n",
       "  <tbody>\n",
       "    <tr>\n",
       "      <th>0</th>\n",
       "      <td>leite</td>\n",
       "      <td>cerveja</td>\n",
       "      <td>pao</td>\n",
       "      <td>manteiga</td>\n",
       "    </tr>\n",
       "    <tr>\n",
       "      <th>1</th>\n",
       "      <td>cafe</td>\n",
       "      <td>pao</td>\n",
       "      <td>manteiga</td>\n",
       "      <td>NaN</td>\n",
       "    </tr>\n",
       "    <tr>\n",
       "      <th>2</th>\n",
       "      <td>cafe</td>\n",
       "      <td>pao</td>\n",
       "      <td>manteiga</td>\n",
       "      <td>NaN</td>\n",
       "    </tr>\n",
       "    <tr>\n",
       "      <th>3</th>\n",
       "      <td>leite</td>\n",
       "      <td>cafe</td>\n",
       "      <td>pao</td>\n",
       "      <td>manteiga</td>\n",
       "    </tr>\n",
       "    <tr>\n",
       "      <th>4</th>\n",
       "      <td>cerveja</td>\n",
       "      <td>NaN</td>\n",
       "      <td>NaN</td>\n",
       "      <td>NaN</td>\n",
       "    </tr>\n",
       "    <tr>\n",
       "      <th>5</th>\n",
       "      <td>manteiga</td>\n",
       "      <td>NaN</td>\n",
       "      <td>NaN</td>\n",
       "      <td>NaN</td>\n",
       "    </tr>\n",
       "    <tr>\n",
       "      <th>6</th>\n",
       "      <td>pao</td>\n",
       "      <td>NaN</td>\n",
       "      <td>NaN</td>\n",
       "      <td>NaN</td>\n",
       "    </tr>\n",
       "    <tr>\n",
       "      <th>7</th>\n",
       "      <td>feijao</td>\n",
       "      <td>NaN</td>\n",
       "      <td>NaN</td>\n",
       "      <td>NaN</td>\n",
       "    </tr>\n",
       "    <tr>\n",
       "      <th>8</th>\n",
       "      <td>arroz</td>\n",
       "      <td>feijao</td>\n",
       "      <td>NaN</td>\n",
       "      <td>NaN</td>\n",
       "    </tr>\n",
       "    <tr>\n",
       "      <th>9</th>\n",
       "      <td>arroz</td>\n",
       "      <td>NaN</td>\n",
       "      <td>NaN</td>\n",
       "      <td>NaN</td>\n",
       "    </tr>\n",
       "  </tbody>\n",
       "</table>\n",
       "</div>"
      ],
      "text/plain": [
       "          0        1         2         3\n",
       "0     leite  cerveja       pao  manteiga\n",
       "1      cafe      pao  manteiga       NaN\n",
       "2      cafe      pao  manteiga       NaN\n",
       "3     leite     cafe       pao  manteiga\n",
       "4   cerveja      NaN       NaN       NaN\n",
       "5  manteiga      NaN       NaN       NaN\n",
       "6       pao      NaN       NaN       NaN\n",
       "7    feijao      NaN       NaN       NaN\n",
       "8     arroz   feijao       NaN       NaN\n",
       "9     arroz      NaN       NaN       NaN"
      ]
     },
     "execution_count": 29,
     "metadata": {},
     "output_type": "execute_result"
    }
   ],
   "source": [
    "mercado"
   ]
  },
  {
   "cell_type": "code",
   "execution_count": 30,
   "id": "9a55ef6c",
   "metadata": {
    "ExecuteTime": {
     "end_time": "2022-04-14T23:41:40.586582Z",
     "start_time": "2022-04-14T23:41:40.560651Z"
    }
   },
   "outputs": [],
   "source": [
    "ec = ECLAT(mercado)"
   ]
  },
  {
   "cell_type": "code",
   "execution_count": 31,
   "id": "70a3fd44",
   "metadata": {
    "ExecuteTime": {
     "end_time": "2022-04-14T23:41:41.381799Z",
     "start_time": "2022-04-14T23:41:41.361852Z"
    }
   },
   "outputs": [
    {
     "data": {
      "text/html": [
       "<div>\n",
       "<style scoped>\n",
       "    .dataframe tbody tr th:only-of-type {\n",
       "        vertical-align: middle;\n",
       "    }\n",
       "\n",
       "    .dataframe tbody tr th {\n",
       "        vertical-align: top;\n",
       "    }\n",
       "\n",
       "    .dataframe thead th {\n",
       "        text-align: right;\n",
       "    }\n",
       "</style>\n",
       "<table border=\"1\" class=\"dataframe\">\n",
       "  <thead>\n",
       "    <tr style=\"text-align: right;\">\n",
       "      <th></th>\n",
       "      <th>cerveja</th>\n",
       "      <th>manteiga</th>\n",
       "      <th>pao</th>\n",
       "      <th>arroz</th>\n",
       "      <th>leite</th>\n",
       "      <th>feijao</th>\n",
       "      <th>cafe</th>\n",
       "    </tr>\n",
       "  </thead>\n",
       "  <tbody>\n",
       "    <tr>\n",
       "      <th>0</th>\n",
       "      <td>1</td>\n",
       "      <td>1</td>\n",
       "      <td>1</td>\n",
       "      <td>0</td>\n",
       "      <td>1</td>\n",
       "      <td>0</td>\n",
       "      <td>0</td>\n",
       "    </tr>\n",
       "    <tr>\n",
       "      <th>1</th>\n",
       "      <td>0</td>\n",
       "      <td>1</td>\n",
       "      <td>1</td>\n",
       "      <td>0</td>\n",
       "      <td>0</td>\n",
       "      <td>0</td>\n",
       "      <td>1</td>\n",
       "    </tr>\n",
       "    <tr>\n",
       "      <th>2</th>\n",
       "      <td>0</td>\n",
       "      <td>1</td>\n",
       "      <td>1</td>\n",
       "      <td>0</td>\n",
       "      <td>0</td>\n",
       "      <td>0</td>\n",
       "      <td>1</td>\n",
       "    </tr>\n",
       "    <tr>\n",
       "      <th>3</th>\n",
       "      <td>0</td>\n",
       "      <td>1</td>\n",
       "      <td>1</td>\n",
       "      <td>0</td>\n",
       "      <td>1</td>\n",
       "      <td>0</td>\n",
       "      <td>1</td>\n",
       "    </tr>\n",
       "    <tr>\n",
       "      <th>4</th>\n",
       "      <td>1</td>\n",
       "      <td>0</td>\n",
       "      <td>0</td>\n",
       "      <td>0</td>\n",
       "      <td>0</td>\n",
       "      <td>0</td>\n",
       "      <td>0</td>\n",
       "    </tr>\n",
       "    <tr>\n",
       "      <th>5</th>\n",
       "      <td>0</td>\n",
       "      <td>1</td>\n",
       "      <td>0</td>\n",
       "      <td>0</td>\n",
       "      <td>0</td>\n",
       "      <td>0</td>\n",
       "      <td>0</td>\n",
       "    </tr>\n",
       "    <tr>\n",
       "      <th>6</th>\n",
       "      <td>0</td>\n",
       "      <td>0</td>\n",
       "      <td>1</td>\n",
       "      <td>0</td>\n",
       "      <td>0</td>\n",
       "      <td>0</td>\n",
       "      <td>0</td>\n",
       "    </tr>\n",
       "    <tr>\n",
       "      <th>7</th>\n",
       "      <td>0</td>\n",
       "      <td>0</td>\n",
       "      <td>0</td>\n",
       "      <td>0</td>\n",
       "      <td>0</td>\n",
       "      <td>1</td>\n",
       "      <td>0</td>\n",
       "    </tr>\n",
       "    <tr>\n",
       "      <th>8</th>\n",
       "      <td>0</td>\n",
       "      <td>0</td>\n",
       "      <td>0</td>\n",
       "      <td>1</td>\n",
       "      <td>0</td>\n",
       "      <td>1</td>\n",
       "      <td>0</td>\n",
       "    </tr>\n",
       "    <tr>\n",
       "      <th>9</th>\n",
       "      <td>0</td>\n",
       "      <td>0</td>\n",
       "      <td>0</td>\n",
       "      <td>1</td>\n",
       "      <td>0</td>\n",
       "      <td>0</td>\n",
       "      <td>0</td>\n",
       "    </tr>\n",
       "  </tbody>\n",
       "</table>\n",
       "</div>"
      ],
      "text/plain": [
       "   cerveja  manteiga  pao  arroz  leite  feijao  cafe\n",
       "0        1         1    1      0      1       0     0\n",
       "1        0         1    1      0      0       0     1\n",
       "2        0         1    1      0      0       0     1\n",
       "3        0         1    1      0      1       0     1\n",
       "4        1         0    0      0      0       0     0\n",
       "5        0         1    0      0      0       0     0\n",
       "6        0         0    1      0      0       0     0\n",
       "7        0         0    0      0      0       1     0\n",
       "8        0         0    0      1      0       1     0\n",
       "9        0         0    0      1      0       0     0"
      ]
     },
     "execution_count": 31,
     "metadata": {},
     "output_type": "execute_result"
    }
   ],
   "source": [
    "ec.df_bin"
   ]
  },
  {
   "cell_type": "markdown",
   "id": "06e7d871",
   "metadata": {},
   "source": [
    "Nossos produtos unicos"
   ]
  },
  {
   "cell_type": "code",
   "execution_count": 32,
   "id": "47df5fb1",
   "metadata": {
    "ExecuteTime": {
     "end_time": "2022-04-14T23:41:43.084573Z",
     "start_time": "2022-04-14T23:41:43.064627Z"
    }
   },
   "outputs": [
    {
     "data": {
      "text/plain": [
       "[nan, 'cerveja', 'manteiga', 'pao', 'arroz', 'leite', 'feijao', 'cafe']"
      ]
     },
     "execution_count": 32,
     "metadata": {},
     "output_type": "execute_result"
    }
   ],
   "source": [
    "ec.uniq_"
   ]
  },
  {
   "cell_type": "markdown",
   "id": "68da96a4",
   "metadata": {},
   "source": [
    "Definindo quantidade de combinação minimas e maximas para o ECLAT assim como o suporte de apariação dos dados"
   ]
  },
  {
   "cell_type": "code",
   "execution_count": 36,
   "id": "0881e887",
   "metadata": {
    "ExecuteTime": {
     "end_time": "2022-04-14T23:41:44.571453Z",
     "start_time": "2022-04-14T23:41:44.511612Z"
    }
   },
   "outputs": [
    {
     "name": "stdout",
     "output_type": "stream",
     "text": [
      "Combination 2 by 2\n"
     ]
    },
    {
     "name": "stderr",
     "output_type": "stream",
     "text": [
      "3it [00:00, 176.47it/s]\n"
     ]
    },
    {
     "name": "stdout",
     "output_type": "stream",
     "text": [
      "Combination 3 by 3\n"
     ]
    },
    {
     "name": "stderr",
     "output_type": "stream",
     "text": [
      "1it [00:00, 167.56it/s]\n"
     ]
    }
   ],
   "source": [
    "index, suport = ec.fit(min_support = 0.3, min_combination=2, max_combination=3)"
   ]
  },
  {
   "cell_type": "markdown",
   "id": "42ada3d5",
   "metadata": {},
   "source": [
    "Quantidade de aparição dos dados juntos "
   ]
  },
  {
   "cell_type": "code",
   "execution_count": 37,
   "id": "a54398d0",
   "metadata": {
    "ExecuteTime": {
     "end_time": "2022-04-14T23:41:46.054940Z",
     "start_time": "2022-04-14T23:41:46.039979Z"
    }
   },
   "outputs": [
    {
     "data": {
      "text/plain": [
       "{'manteiga & pao': [0, 1, 2, 3],\n",
       " 'manteiga & cafe': [1, 2, 3],\n",
       " 'pao & cafe': [1, 2, 3],\n",
       " 'manteiga & pao & cafe': [1, 2, 3]}"
      ]
     },
     "execution_count": 37,
     "metadata": {},
     "output_type": "execute_result"
    }
   ],
   "source": [
    "index"
   ]
  },
  {
   "cell_type": "code",
   "execution_count": 35,
   "id": "d1bff159",
   "metadata": {
    "ExecuteTime": {
     "end_time": "2022-04-14T23:41:50.911255Z",
     "start_time": "2022-04-14T23:41:50.904248Z"
    }
   },
   "outputs": [
    {
     "data": {
      "text/plain": [
       "{'manteiga & pao': 0.4,\n",
       " 'manteiga & cafe': 0.3,\n",
       " 'pao & cafe': 0.3,\n",
       " 'manteiga & pao & cafe': 0.3}"
      ]
     },
     "execution_count": 35,
     "metadata": {},
     "output_type": "execute_result"
    }
   ],
   "source": [
    "suport"
   ]
  }
 ],
 "metadata": {
  "kernelspec": {
   "display_name": "Python (pycaretenv)",
   "language": "python",
   "name": "pycaretenv"
  },
  "language_info": {
   "codemirror_mode": {
    "name": "ipython",
    "version": 3
   },
   "file_extension": ".py",
   "mimetype": "text/x-python",
   "name": "python",
   "nbconvert_exporter": "python",
   "pygments_lexer": "ipython3",
   "version": "3.8.12"
  },
  "toc": {
   "base_numbering": 1,
   "nav_menu": {},
   "number_sections": true,
   "sideBar": true,
   "skip_h1_title": false,
   "title_cell": "Table of Contents",
   "title_sidebar": "Contents",
   "toc_cell": false,
   "toc_position": {},
   "toc_section_display": true,
   "toc_window_display": false
  }
 },
 "nbformat": 4,
 "nbformat_minor": 5
}
